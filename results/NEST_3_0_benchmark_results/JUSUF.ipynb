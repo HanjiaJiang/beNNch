{
 "cells": [
  {
   "cell_type": "code",
   "execution_count": 1,
   "metadata": {},
   "outputs": [],
   "source": [
    "import pandas as pd\n",
    "import matplotlib.pyplot as plt\n",
    "import numpy as np"
   ]
  },
  {
   "cell_type": "code",
   "execution_count": 2,
   "metadata": {},
   "outputs": [],
   "source": [
    "def cm2inch(value):\n",
    "    return value/2.54"
   ]
  },
  {
   "cell_type": "code",
   "execution_count": 7,
   "metadata": {},
   "outputs": [],
   "source": [
    "#plotsize_subplots = (cm2inch(19),cm2inch(3.5))\n",
    "#plotsize_subplots = (cm2inch(19),cm2inch(9))\n",
    "plotsize_subplots = (16,3)\n",
    "\n",
    "fontsize_axis = 9\n",
    "fontsize_labels = 9\n",
    "fontsize_legends = 8\n",
    "\n",
    "plt.rcParams.update({'figure.figsize': plotsize_subplots,\n",
    "                     'axes.titlesize': fontsize_labels,\n",
    "                     'axes.labelsize': fontsize_labels,\n",
    "                     'ytick.labelsize': 'small'})"
   ]
  },
  {
   "cell_type": "code",
   "execution_count": 4,
   "metadata": {},
   "outputs": [],
   "source": [
    "def calculate_T_conn_and_memory(df):\n",
    "    \"\"\"Calculate T_conn and memory_per_vp\"\"\"\n",
    "    \n",
    "    # For MAM, T_conns is divided into T_network_global and T_connect:\n",
    "    if 'T_conns_min' not in list(df) and 'T_network_global_min' in list(df): \n",
    "        df['T_conns_min'] = df['T_network_global_min'] + df['T_connect_min']\n",
    "        df['T_conns_max'] = df['T_network_global_max'] + df['T_connect_max']\n",
    "    \n",
    "    df['T_bld_xn'] = df['T_conns_min'] + df['T_ini_max']\n",
    "    df['T_bld_nx'] = df['T_conns_max'] + df['T_ini_min']\n",
    "    df['Conn. Total']   = df[['T_bld_xn', 'T_bld_nx']].min(axis=1)\n",
    "    df['Conn. Creation (min)'] = df['T_conns_min']\n",
    "    df['Conn. Exchange (min)'] = df['T_ini_min']\n",
    "\n",
    "    \n",
    "    if 'NUM_VPS' not in list(df):\n",
    "        df['N_VP'] = df['NUMBER_OF_NODES']*df['TASKS_PER_NODE']*df['THREADS_PER_TASK']\n",
    "    else:\n",
    "        df['N_VP'] = df['NUM_VPS']\n",
    "    if np.isnan(df['VSize_sum']).all():  # Population model\n",
    "        # Population model does not simulate, VSize_mem is therefore equal to VSize_ini_sum as this is the\n",
    "        # end of the benchmark\n",
    "        df['VSize_sum'] = df['VSize_ini_sum']\n",
    "    if 'VSize_mem_sum' not in list(df) and 'VSize_nodes_sum' not in list(df):  # MAM\n",
    "        df['VSize_mem_sum'] = df['VSize_net_sum']  # VSize_mem_sum is called VSize_net_sum for MAM\n",
    "        df['VSize_nodes_sum'] = np.NaN  # MAM model does not have VSize_nodes_sum\n",
    "\n",
    "    # Vi har MiB = 1024**2 B\n",
    "    # Verdien vi får fra NEST er i KiB (http://www.nest-simulator.org/helpindex/sli/memory_thisjob.html)\n",
    "\n",
    "    df['connections'] = ((df['VSize_mem_sum']-df['VSize_nodes_sum'])/df['N_VP'])*1024/1024**3\n",
    "    df['ini'] = ((df['VSize_ini_sum']-df['VSize_mem_sum'])/df['N_VP'])*1024/1024**3\n",
    "    df['other'] = (df['VSize_sum']/df['N_VP'])*1024/1024**3 - df['connections'] - df['ini']\n",
    "    df['Memory per VP'] = (df['VSize_sum']/df['N_VP'])*1024/1024**3\n",
    "\n",
    "    return df"
   ]
  },
  {
   "cell_type": "code",
   "execution_count": 5,
   "metadata": {},
   "outputs": [],
   "source": [
    "def plot_compare(df, name, values=None, index=None, legend_loc='lower right', rot=45, one_row=True, logy=False,\n",
    "                 color=None, plot_T_sim=True, plot_kind='bar', title=''):\n",
    "    \"\"\"Plot times for different cases\"\"\"\n",
    "    \n",
    "    if not values:\n",
    "        values=['Conn. Creation (min)', 'Conn. Exchange (min)', 'Conn. Total', 'Memory per VP']\n",
    "    if not index:\n",
    "        index='N_VP'\n",
    "    if plot_T_sim:\n",
    "        df['Simulation time'] = df['T_sim']\n",
    "        values.insert(3, 'Simulation time')\n",
    "    df_p = pd.pivot_table(df, index=index, columns='Case', values=values)\n",
    "\n",
    "    # Make subplots\n",
    "    if one_row:\n",
    "        fig, axes = plt.subplots(nrows=1, ncols=len(values))\n",
    "        if len(values) == 1:\n",
    "            axes = [axes]\n",
    "                \n",
    "        for indx, val_name in enumerate(values):\n",
    "            df_p[val_name].plot(kind=plot_kind, ax = axes[indx], title=val_name, fontsize=fontsize_axis, rot=rot,\n",
    "                                logy=logy, legend=False, color=color)\n",
    "        axes[0].legend(fontsize=fontsize_legends, loc=legend_loc)\n",
    "        \n",
    "        plt.subplots_adjust(wspace=0.5)\n",
    "    else:\n",
    "        plotsize_subplots = (cm2inch(19),cm2inch(9))\n",
    "        fig, axes = plt.subplots(nrows=2, ncols=2, figsize=plotsize_subplots)\n",
    "\n",
    "        df_p['Conn. Creation (min)'].plot(kind='bar', ax = axes[0][0], title='Conn. Creation (min)',\n",
    "                                          fontsize=fontsize_axis, rot=rot, legend=False)\n",
    "        axes[0][0].legend(fontsize=fontsize_legends, loc=legend_loc)\n",
    "        df_p['Conn. Exchange (min)'].plot(kind='bar', ax = axes[0][1], title='Conn. Exchange (min)',\n",
    "                                          fontsize=fontsize_axis, rot=rot, legend=False)\n",
    "        df_p['Conn. Total'].plot(kind='bar', ax = axes[1][0], title='Conn. Total', fontsize=fontsize_axis,\n",
    "                                 rot=rot, legend=False)\n",
    "        df_p['Memory per VP'].plot(kind='bar', ax = axes[1][1], title='Memory per VP', fontsize=fontsize_axis,\n",
    "                                   rot=rot, legend=False)\n",
    "\n",
    "        plt.subplots_adjust(wspace=0.5, hspace=0.7)\n",
    "\n",
    "    # y-axis labels\n",
    "    if 'Total Conn. Time per Conn.' in values:  \n",
    "        axes[0].set_ylabel(r'Time [$\\mu$s]')  # Not safe..\n",
    "    else:\n",
    "        if one_row:\n",
    "            axes[0].set_ylabel('Time [s]')\n",
    "        else:\n",
    "            axes[0][0].set_ylabel('Time [s]')\n",
    "            axes[1][0].set_ylabel('Time [s]')\n",
    "    if 'Memory per VP' in values:\n",
    "        # Assume memory is last entry in values\n",
    "        if one_row:\n",
    "            axes[len(values) - 1].set_ylabel('Memory [GiB]')\n",
    "        else:\n",
    "            axes[1][1].set_ylabel('Memory [GiB]')\n",
    "    elif 'Memory per connection' in values:\n",
    "        axes[len(values) - 1].set_ylabel('Memory [B]')\n",
    "\n",
    "    # x-axis labels\n",
    "    if one_row:\n",
    "        for ax in axes:\n",
    "            ax.set_xlabel(index)\n",
    "\n",
    "    if title:\n",
    "        fig.suptitle(title, y=1.2)\n",
    "            \n",
    "    fig = plt.gcf()\n",
    "    fig.savefig(name, bbox_inches='tight')\n",
    "    \n",
    "    return df_p"
   ]
  },
  {
   "cell_type": "markdown",
   "metadata": {},
   "source": [
    "# Benchmarks"
   ]
  },
  {
   "cell_type": "markdown",
   "metadata": {},
   "source": [
    "## HPC Benchmark"
   ]
  },
  {
   "cell_type": "code",
   "execution_count": 15,
   "metadata": {},
   "outputs": [
    {
     "data": {
      "text/plain": [
       "0    2.531476e+09\n",
       "1    5.062951e+09\n",
       "2    1.012590e+10\n",
       "3    2.025180e+10\n",
       "4    4.050360e+10\n",
       "5             NaN\n",
       "0    2.531476e+09\n",
       "1    5.062951e+09\n",
       "2    1.012590e+10\n",
       "3    2.025180e+10\n",
       "4    4.050360e+10\n",
       "5    8.100720e+10\n",
       "0    2.531476e+09\n",
       "1    5.062951e+09\n",
       "2    1.012590e+10\n",
       "3    2.025180e+10\n",
       "4    4.050360e+10\n",
       "5             NaN\n",
       "Name: N_conns_sum, dtype: float64"
      ]
     },
     "execution_count": 15,
     "metadata": {},
     "output_type": "execute_result"
    },
    {
     "data": {
      "image/png": "[encoded data removed]",
      "text/plain": [
       "<Figure size 1152x216 with 5 Axes>"
      ]
     },
     "metadata": {
      "needs_background": "light"
     },
     "output_type": "display_data"
    }
   ],
   "source": [
    "hpc_220 = pd.read_csv('results/jusuf/hpc_benchmark_2_20_jusuf.csv')\n",
    "hpc_220['Case'] = ['NEST 2.20 JUSUF'] * len(hpc_220)\n",
    "\n",
    "hpc_3_c6 = pd.read_csv('results/jusuf/hpc_benchmark_3_0_c690b7a_jusuf.csv')\n",
    "hpc_3_c6['Case'] = ['NEST 3.0 JUSUF (c690b7a)'] * len(hpc_3_c6)\n",
    "\n",
    "hpc_3_8f = pd.read_csv('results/hpc_benchmark_3_0_8f5a5fc1e_daint.csv')\n",
    "hpc_3_8f['Case'] = ['NEST 3.0 DAINT (8f5a5fc1e)'] * len(hpc_3_8f)\n",
    "\n",
    "hpc = pd.concat([hpc_220, hpc_3_c6, hpc_3_8f])\n",
    "\n",
    "hpc = calculate_T_conn_and_memory(hpc)\n",
    "hpc_p = plot_compare(hpc, 'figures/jusuf/hpc_benchmark_weak_scaling.pdf', legend_loc='upper left',\n",
    "                     title='HPC Benchmark weak scaling')\n",
    "\n",
    "hpc['N_conns_sum']"
   ]
  },
  {
   "cell_type": "code",
   "execution_count": null,
   "metadata": {},
   "outputs": [],
   "source": []
  }
 ],
 "metadata": {
  "kernelspec": {
   "display_name": "Python 3",
   "language": "python",
   "name": "python3"
  },
  "language_info": {
   "codemirror_mode": {
    "name": "ipython",
    "version": 3
   },
   "file_extension": ".py",
   "mimetype": "text/x-python",
   "name": "python",
   "nbconvert_exporter": "python",
   "pygments_lexer": "ipython3",
   "version": "3.7.6"
  }
 },
 "nbformat": 4,
 "nbformat_minor": 4
}
